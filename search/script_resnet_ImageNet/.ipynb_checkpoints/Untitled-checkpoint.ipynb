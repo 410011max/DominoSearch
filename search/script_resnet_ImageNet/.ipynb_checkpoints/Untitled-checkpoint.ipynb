{
 "cells": [
  {
   "cell_type": "code",
   "execution_count": 2,
   "id": "8f9d80ef",
   "metadata": {},
   "outputs": [],
   "source": [
    "import pickle\n",
    "import os"
   ]
  },
  {
   "cell_type": "code",
   "execution_count": 3,
   "id": "f8333f57",
   "metadata": {},
   "outputs": [],
   "source": [
    "def get_config(path):\n",
    "    with open(path, 'rb') as f:\n",
    "        cfg = pickle.load(f)\n",
    "    return list(cfg.values())"
   ]
  },
  {
   "cell_type": "code",
   "execution_count": 4,
   "id": "0870c25a",
   "metadata": {},
   "outputs": [],
   "source": [
    "def convert_to_search_space_format(cfg):\n",
    "    return [[c] for c in cfg]"
   ]
  },
  {
   "cell_type": "code",
   "execution_count": 5,
   "id": "1fb27fa0",
   "metadata": {},
   "outputs": [],
   "source": [
    "deit_b70_ds = get_config(\"/home/shadowpa0327/research/sparsity_research/DominoSearch/DominoSearch/search/script_resnet_ImageNet/deit_base_sparse/s_0.7.pkl\")\n",
    "deit_b675_ds = get_config(\"/home/shadowpa0327/research/sparsity_research/DominoSearch/DominoSearch/search/script_resnet_ImageNet/deit_base_sparse/s_0.675.pkl\")\n",
    "deit_b65_ds = get_config(\"/home/shadowpa0327/research/sparsity_research/DominoSearch/DominoSearch/search/script_resnet_ImageNet/deit_base_sparse/s_0.65.pkl\")\n",
    "deit_b625_ds = get_config(\"/home/shadowpa0327/research/sparsity_research/DominoSearch/DominoSearch/search/script_resnet_ImageNet/deit_base_sparse/s_0.625.pkl\")"
   ]
  },
  {
   "cell_type": "code",
   "execution_count": 6,
   "id": "0838bf92",
   "metadata": {},
   "outputs": [],
   "source": [
    "swin_s60_ds = get_config(\"/home/shadowpa0327/research/sparsity_research/DominoSearch/DominoSearch/search/script_resnet_ImageNet/swin_small_sparse/s_0.6.pkl\")\n",
    "swin_s65_ds = get_config(\"/home/shadowpa0327/research/sparsity_research/DominoSearch/DominoSearch/search/script_resnet_ImageNet/swin_small_sparse/s_0.65.pkl\")\n",
    "swin_s70_ds = get_config(\"/home/shadowpa0327/research/sparsity_research/DominoSearch/DominoSearch/search/script_resnet_ImageNet/swin_small_sparse/s_0.7.pkl\")"
   ]
  },
  {
   "cell_type": "code",
   "execution_count": 7,
   "id": "a88855ea",
   "metadata": {},
   "outputs": [
    {
     "ename": "FileNotFoundError",
     "evalue": "[Errno 2] No such file or directory: '/home/shadowpa0327/research/sparsity_research/DominoSearch/DominoSearch/search/script_resnet_ImageNet/swin_base_sparse/s_0.6.pkl'",
     "output_type": "error",
     "traceback": [
      "\u001b[0;31m---------------------------------------------------------------------------\u001b[0m",
      "\u001b[0;31mFileNotFoundError\u001b[0m                         Traceback (most recent call last)",
      "Input \u001b[0;32mIn [7]\u001b[0m, in \u001b[0;36m<module>\u001b[0;34m\u001b[0m\n\u001b[0;32m----> 1\u001b[0m swin_b60_ds \u001b[38;5;241m=\u001b[39m \u001b[43mget_config\u001b[49m\u001b[43m(\u001b[49m\u001b[38;5;124;43m\"\u001b[39;49m\u001b[38;5;124;43m/home/shadowpa0327/research/sparsity_research/DominoSearch/DominoSearch/search/script_resnet_ImageNet/swin_base_sparse/s_0.6.pkl\u001b[39;49m\u001b[38;5;124;43m\"\u001b[39;49m\u001b[43m)\u001b[49m\n\u001b[1;32m      2\u001b[0m swin_b65_ds \u001b[38;5;241m=\u001b[39m get_config(\u001b[38;5;124m\"\u001b[39m\u001b[38;5;124m/home/shadowpa0327/research/sparsity_research/DominoSearch/DominoSearch/search/script_resnet_ImageNet/swin_base_sparse/s_0.65.pkl\u001b[39m\u001b[38;5;124m\"\u001b[39m)\n\u001b[1;32m      3\u001b[0m swin_b70_ds \u001b[38;5;241m=\u001b[39m get_config(\u001b[38;5;124m\"\u001b[39m\u001b[38;5;124m/home/shadowpa0327/research/sparsity_research/DominoSearch/DominoSearch/search/script_resnet_ImageNet/swin_base_sparse/s_0.7.pkl\u001b[39m\u001b[38;5;124m\"\u001b[39m)\n",
      "Input \u001b[0;32mIn [3]\u001b[0m, in \u001b[0;36mget_config\u001b[0;34m(path)\u001b[0m\n\u001b[1;32m      1\u001b[0m \u001b[38;5;28;01mdef\u001b[39;00m \u001b[38;5;21mget_config\u001b[39m(path):\n\u001b[0;32m----> 2\u001b[0m     \u001b[38;5;28;01mwith\u001b[39;00m \u001b[38;5;28;43mopen\u001b[39;49m\u001b[43m(\u001b[49m\u001b[43mpath\u001b[49m\u001b[43m,\u001b[49m\u001b[43m \u001b[49m\u001b[38;5;124;43m'\u001b[39;49m\u001b[38;5;124;43mrb\u001b[39;49m\u001b[38;5;124;43m'\u001b[39;49m\u001b[43m)\u001b[49m \u001b[38;5;28;01mas\u001b[39;00m f:\n\u001b[1;32m      3\u001b[0m         cfg \u001b[38;5;241m=\u001b[39m pickle\u001b[38;5;241m.\u001b[39mload(f)\n\u001b[1;32m      4\u001b[0m     \u001b[38;5;28;01mreturn\u001b[39;00m \u001b[38;5;28mlist\u001b[39m(cfg\u001b[38;5;241m.\u001b[39mvalues())\n",
      "\u001b[0;31mFileNotFoundError\u001b[0m: [Errno 2] No such file or directory: '/home/shadowpa0327/research/sparsity_research/DominoSearch/DominoSearch/search/script_resnet_ImageNet/swin_base_sparse/s_0.6.pkl'"
     ]
    }
   ],
   "source": [
    "swin_b60_ds = get_config(\"/home/shadowpa0327/research/sparsity_research/DominoSearch/DominoSearch/search/script_resnet_ImageNet/swin_base_sparse_base4/s_0.6.pkl\")\n",
    "swin_b65_ds = get_config(\"/home/shadowpa0327/research/sparsity_research/DominoSearch/DominoSearch/search/script_resnet_ImageNet/swin_base_sparse_base4/s_0.65.pkl\")\n",
    "swin_b70_ds = get_config(\"/home/shadowpa0327/research/sparsity_research/DominoSearch/DominoSearch/search/script_resnet_ImageNet/swin_base_sparse_base4/s_0.7.pkl\")"
   ]
  },
  {
   "cell_type": "code",
   "execution_count": 26,
   "id": "3d585ecd",
   "metadata": {},
   "outputs": [
    {
     "name": "stdout",
     "output_type": "stream",
     "text": [
      "[[4, 4], [4, 4], [4, 4], [4, 4], [4, 4], [4, 4], [4, 4], [4, 4], [4, 4], [2, 4], [2, 4], [2, 4], [4, 4], [2, 4], [2, 4], [2, 4], [2, 4], [2, 4], [1, 4], [1, 4], [2, 4], [1, 4], [1, 4], [1, 4], [2, 4], [1, 4], [1, 4], [1, 4], [2, 4], [1, 4], [1, 4], [1, 4], [2, 4], [2, 4], [1, 4], [1, 4], [2, 4], [1, 4], [1, 4], [1, 4], [2, 4], [2, 4], [1, 4], [1, 4], [2, 4], [2, 4], [1, 4], [1, 4], [2, 4], [2, 4], [1, 4], [1, 4], [2, 4], [2, 4], [1, 4], [1, 4], [2, 4], [2, 4], [1, 4], [1, 4], [2, 4], [2, 4], [1, 4], [1, 4], [2, 4], [2, 4], [1, 4], [1, 4], [2, 4], [1, 4], [1, 4], [1, 4], [2, 4], [2, 4], [1, 4], [1, 4], [2, 4], [1, 4], [1, 4], [1, 4], [2, 4], [2, 4], [1, 4], [1, 4], [2, 4], [1, 4], [1, 4], [1, 4], [1, 4], [1, 4], [1, 4], [1, 4], [1, 4], [1, 4], [1, 4], [1, 4]]\n",
      "[[[4, 4]], [[4, 4]], [[4, 4]], [[4, 4]], [[4, 4]], [[4, 4]], [[4, 4]], [[4, 4]], [[4, 4]], [[2, 4]], [[2, 4]], [[2, 4]], [[4, 4]], [[2, 4]], [[2, 4]], [[2, 4]], [[2, 4]], [[2, 4]], [[1, 4]], [[1, 4]], [[2, 4]], [[1, 4]], [[1, 4]], [[1, 4]], [[2, 4]], [[1, 4]], [[1, 4]], [[1, 4]], [[2, 4]], [[1, 4]], [[1, 4]], [[1, 4]], [[2, 4]], [[2, 4]], [[1, 4]], [[1, 4]], [[2, 4]], [[1, 4]], [[1, 4]], [[1, 4]], [[2, 4]], [[2, 4]], [[1, 4]], [[1, 4]], [[2, 4]], [[2, 4]], [[1, 4]], [[1, 4]], [[2, 4]], [[2, 4]], [[1, 4]], [[1, 4]], [[2, 4]], [[2, 4]], [[1, 4]], [[1, 4]], [[2, 4]], [[2, 4]], [[1, 4]], [[1, 4]], [[2, 4]], [[2, 4]], [[1, 4]], [[1, 4]], [[2, 4]], [[2, 4]], [[1, 4]], [[1, 4]], [[2, 4]], [[1, 4]], [[1, 4]], [[1, 4]], [[2, 4]], [[2, 4]], [[1, 4]], [[1, 4]], [[2, 4]], [[1, 4]], [[1, 4]], [[1, 4]], [[2, 4]], [[2, 4]], [[1, 4]], [[1, 4]], [[2, 4]], [[1, 4]], [[1, 4]], [[1, 4]], [[1, 4]], [[1, 4]], [[1, 4]], [[1, 4]], [[1, 4]], [[1, 4]], [[1, 4]], [[1, 4]]]\n"
     ]
    }
   ],
   "source": [
    "print(swin_s70_ds) \n",
    "print(convert_to_search_space_format(swin_s70_ds))"
   ]
  },
  {
   "cell_type": "code",
   "execution_count": 25,
   "id": "2f4754ce",
   "metadata": {},
   "outputs": [
    {
     "name": "stdout",
     "output_type": "stream",
     "text": [
      "[[4, 4], [4, 4], [4, 4], [4, 4], [4, 4], [4, 4], [4, 4], [4, 4], [4, 4], [2, 4], [2, 4], [2, 4], [4, 4], [2, 4], [2, 4], [2, 4], [2, 4], [2, 4], [2, 4], [1, 4], [2, 4], [2, 4], [2, 4], [1, 4], [2, 4], [2, 4], [2, 4], [1, 4], [2, 4], [2, 4], [2, 4], [1, 4], [2, 4], [2, 4], [2, 4], [1, 4], [2, 4], [2, 4], [2, 4], [1, 4], [2, 4], [2, 4], [2, 4], [1, 4], [2, 4], [2, 4], [2, 4], [1, 4], [2, 4], [2, 4], [2, 4], [2, 4], [2, 4], [2, 4], [2, 4], [2, 4], [2, 4], [2, 4], [2, 4], [1, 4], [2, 4], [2, 4], [2, 4], [2, 4], [2, 4], [2, 4], [2, 4], [2, 4], [2, 4], [2, 4], [2, 4], [2, 4], [2, 4], [2, 4], [2, 4], [2, 4], [2, 4], [2, 4], [2, 4], [2, 4], [2, 4], [2, 4], [2, 4], [2, 4], [2, 4], [2, 4], [2, 4], [2, 4], [1, 4], [1, 4], [1, 4], [1, 4], [1, 4], [1, 4], [1, 4], [1, 4]]\n",
      "[[[4, 4]], [[4, 4]], [[4, 4]], [[4, 4]], [[4, 4]], [[4, 4]], [[4, 4]], [[4, 4]], [[4, 4]], [[2, 4]], [[2, 4]], [[2, 4]], [[4, 4]], [[2, 4]], [[2, 4]], [[2, 4]], [[2, 4]], [[2, 4]], [[2, 4]], [[1, 4]], [[2, 4]], [[2, 4]], [[2, 4]], [[1, 4]], [[2, 4]], [[2, 4]], [[2, 4]], [[1, 4]], [[2, 4]], [[2, 4]], [[2, 4]], [[1, 4]], [[2, 4]], [[2, 4]], [[2, 4]], [[1, 4]], [[2, 4]], [[2, 4]], [[2, 4]], [[1, 4]], [[2, 4]], [[2, 4]], [[2, 4]], [[1, 4]], [[2, 4]], [[2, 4]], [[2, 4]], [[1, 4]], [[2, 4]], [[2, 4]], [[2, 4]], [[2, 4]], [[2, 4]], [[2, 4]], [[2, 4]], [[2, 4]], [[2, 4]], [[2, 4]], [[2, 4]], [[1, 4]], [[2, 4]], [[2, 4]], [[2, 4]], [[2, 4]], [[2, 4]], [[2, 4]], [[2, 4]], [[2, 4]], [[2, 4]], [[2, 4]], [[2, 4]], [[2, 4]], [[2, 4]], [[2, 4]], [[2, 4]], [[2, 4]], [[2, 4]], [[2, 4]], [[2, 4]], [[2, 4]], [[2, 4]], [[2, 4]], [[2, 4]], [[2, 4]], [[2, 4]], [[2, 4]], [[2, 4]], [[2, 4]], [[1, 4]], [[1, 4]], [[1, 4]], [[1, 4]], [[1, 4]], [[1, 4]], [[1, 4]], [[1, 4]]]\n"
     ]
    }
   ],
   "source": [
    "print(swin_s60_ds) \n",
    "print(convert_to_search_space_format(swin_s60_ds))"
   ]
  },
  {
   "cell_type": "code",
   "execution_count": 22,
   "id": "78c54319",
   "metadata": {},
   "outputs": [
    {
     "name": "stdout",
     "output_type": "stream",
     "text": [
      "[[[2, 4]], [[2, 4]], [[2, 4]], [[2, 4]], [[2, 4]], [[2, 4]], [[1, 4]], [[1, 4]], [[2, 4]], [[2, 4]], [[1, 4]], [[1, 4]], [[2, 4]], [[2, 4]], [[2, 4]], [[2, 4]], [[2, 4]], [[2, 4]], [[1, 4]], [[1, 4]], [[2, 4]], [[2, 4]], [[1, 4]], [[2, 4]], [[2, 4]], [[2, 4]], [[2, 4]], [[1, 4]], [[2, 4]], [[2, 4]], [[2, 4]], [[1, 4]], [[2, 4]], [[2, 4]], [[1, 4]], [[1, 4]], [[2, 4]], [[2, 4]], [[1, 4]], [[2, 4]], [[2, 4]], [[2, 4]], [[1, 4]], [[2, 4]], [[2, 4]], [[2, 4]], [[1, 4]], [[1, 4]]]\n"
     ]
    }
   ],
   "source": [
    "print(convert_to_search_space_format([[2, 4], [2, 4], [2, 4], [2, 4], [2, 4], [2, 4], [1, 4], [1, 4], [2, 4], [2, 4], [1, 4], [1, 4], [2, 4], [2, 4], [2, 4], [2, 4], [2, 4], [2, 4], [1, 4], [1, 4], [2, 4], [2, 4], [1, 4], [2, 4], [2, 4], [2, 4], [2, 4], [1, 4], [2, 4], [2, 4], [2, 4], [1, 4], [2, 4], [2, 4], [1, 4], [1, 4], [2, 4], [2, 4], [1, 4], [2, 4], [2, 4], [2, 4], [1, 4], [2, 4], [2, 4], [2, 4], [1, 4], [1, 4]]))"
   ]
  },
  {
   "cell_type": "code",
   "execution_count": null,
   "id": "09c3dde9",
   "metadata": {},
   "outputs": [],
   "source": []
  }
 ],
 "metadata": {
  "kernelspec": {
   "display_name": "Python 3 (ipykernel)",
   "language": "python",
   "name": "python3"
  },
  "language_info": {
   "codemirror_mode": {
    "name": "ipython",
    "version": 3
   },
   "file_extension": ".py",
   "mimetype": "text/x-python",
   "name": "python",
   "nbconvert_exporter": "python",
   "pygments_lexer": "ipython3",
   "version": "3.8.12"
  }
 },
 "nbformat": 4,
 "nbformat_minor": 5
}
