{
 "cells": [
  {
   "cell_type": "markdown",
   "id": "13db3df6",
   "metadata": {},
   "source": [
    "### Function"
   ]
  },
  {
   "cell_type": "code",
   "execution_count": 2,
   "id": "8f9d80ef",
   "metadata": {},
   "outputs": [],
   "source": [
    "import pickle\n",
    "import os"
   ]
  },
  {
   "cell_type": "code",
   "execution_count": 3,
   "id": "f8333f57",
   "metadata": {},
   "outputs": [],
   "source": [
    "def get_config(path):\n",
    "    with open(path, 'rb') as f:\n",
    "        cfg = pickle.load(f)\n",
    "    return list(cfg.values()), cfg"
   ]
  },
  {
   "cell_type": "code",
   "execution_count": 4,
   "id": "0870c25a",
   "metadata": {},
   "outputs": [],
   "source": [
    "def convert_to_search_space_format(cfg):\n",
    "    return [[c] for c in cfg]"
   ]
  },
  {
   "cell_type": "markdown",
   "id": "c3137488",
   "metadata": {},
   "source": [
    "### Convnext"
   ]
  },
  {
   "cell_type": "code",
   "execution_count": 5,
   "id": "1e033927",
   "metadata": {},
   "outputs": [],
   "source": [
    "# _, test = get_config(\"convnext_small_sparse/s_0.6.pkl\")\n",
    "# print(test)\n",
    "# print(len(test))"
   ]
  },
  {
   "cell_type": "code",
   "execution_count": 6,
   "id": "cdcd00d2",
   "metadata": {},
   "outputs": [],
   "source": [
    "convnext_b50_ds, _ = get_config(\"convnext_small_sparse/s_0.5.pkl\")\n",
    "convnext_b55_ds, _ = get_config(\"convnext_small_sparse/s_0.55.pkl\")\n",
    "# convnext_b575_ds, _ = get_config(\"convnext_small_sparse/s_0.575.pkl\")\n",
    "convnext_b60_ds, _ = get_config(\"convnext_small_sparse/s_0.6.pkl\")\n",
    "# convnext_b625_ds, _ = get_config(\"convnext_small_sparse/s_0.625.pkl\")\n",
    "convnext_b65_ds, _ = get_config(\"convnext_small_sparse/s_0.65.pkl\")\n",
    "# convnext_b675_ds, _ = get_config(\"convnext_small_sparse/s_0.675.pkl\")\n",
    "convnext_b70_ds, _ = get_config(\"convnext_small_sparse/s_0.7.pkl\")\n",
    "# convnext_b725_ds, _ = get_config(\"convnext_small_sparse/s_0.725.pkl\")"
   ]
  },
  {
   "cell_type": "code",
   "execution_count": 8,
   "id": "ebc29183",
   "metadata": {},
   "outputs": [
    {
     "name": "stdout",
     "output_type": "stream",
     "text": [
      "s50: [[4, 4], [4, 4], [4, 4], [4, 4], [4, 4], [4, 4], [4, 4], [4, 4], [4, 4], [4, 4], [4, 4], [4, 4], [4, 4], [4, 4], [4, 4], [4, 4], [4, 4], [4, 4], [4, 4], [4, 4], [4, 4], [4, 4], [4, 4], [4, 4], [4, 4], [4, 4], [4, 4], [4, 4], [4, 4], [4, 4], [4, 4], [4, 4], [4, 4], [4, 4], [4, 4], [4, 4], [4, 4], [4, 4], [4, 4], [4, 4], [4, 4], [4, 4], [4, 4], [4, 4], [4, 4], [4, 4], [4, 4], [4, 4], [4, 4], [4, 4], [4, 4], [4, 4], [4, 4], [4, 4], [4, 4], [4, 4], [4, 4], [4, 4], [4, 4], [4, 4], [4, 4], [4, 4], [4, 4], [4, 4], [4, 4], [4, 4], [4, 4], [4, 4], [4, 4], [4, 4], [4, 4], [4, 4], [4, 4], [4, 4], [4, 4], [4, 4], [4, 4], [4, 4], [4, 4], [4, 4], [4, 4], [4, 4], [4, 4], [4, 4], [4, 4], [4, 4], [4, 4], [4, 4], [4, 4], [4, 4], [4, 4], [4, 4], [4, 4], [4, 4], [4, 4], [4, 4], [4, 4], [4, 4], [4, 4], [4, 4], [4, 4], [4, 4], [4, 4], [4, 4], [2, 4], [4, 4], [4, 4], [4, 4], [4, 4], [4, 4], [4, 4], [4, 4]]\n",
      "s55: [[4, 4], [2, 4], [2, 4], [1, 4], [4, 4], [2, 4], [2, 4], [4, 4], [2, 4], [2, 4], [4, 4], [2, 4], [2, 4], [4, 4], [2, 4], [2, 4], [4, 4], [2, 4], [2, 4], [4, 4], [2, 4], [2, 4], [4, 4], [2, 4], [1, 4], [4, 4], [2, 4], [2, 4], [4, 4], [2, 4], [1, 4], [4, 4], [2, 4], [1, 4], [4, 4], [2, 4], [2, 4], [4, 4], [2, 4], [2, 4], [4, 4], [2, 4], [2, 4], [4, 4], [2, 4], [2, 4], [4, 4], [2, 4], [2, 4], [4, 4], [2, 4], [2, 4], [4, 4], [2, 4], [1, 4], [4, 4], [2, 4], [2, 4], [4, 4], [2, 4], [2, 4], [4, 4], [2, 4], [2, 4], [4, 4], [2, 4], [2, 4], [4, 4], [2, 4], [2, 4], [4, 4], [2, 4], [2, 4], [4, 4], [2, 4], [2, 4], [4, 4], [2, 4], [2, 4], [4, 4], [2, 4], [1, 4], [4, 4], [2, 4], [1, 4], [4, 4], [2, 4], [1, 4], [4, 4], [1, 4], [1, 4], [4, 4], [2, 4], [2, 4], [4, 4], [2, 4], [1, 4], [4, 4], [2, 4], [1, 4], [4, 4], [2, 4], [1, 4], [4, 4], [1, 4], [1, 4], [4, 4], [1, 4], [1, 4], [4, 4], [1, 4], [1, 4]]\n",
      "s60: [[4, 4], [2, 4], [2, 4], [1, 4], [4, 4], [2, 4], [2, 4], [4, 4], [2, 4], [2, 4], [4, 4], [2, 4], [2, 4], [4, 4], [2, 4], [2, 4], [4, 4], [2, 4], [2, 4], [4, 4], [2, 4], [2, 4], [4, 4], [2, 4], [1, 4], [4, 4], [2, 4], [2, 4], [4, 4], [2, 4], [1, 4], [4, 4], [2, 4], [2, 4], [4, 4], [2, 4], [1, 4], [4, 4], [2, 4], [1, 4], [4, 4], [2, 4], [2, 4], [4, 4], [2, 4], [1, 4], [4, 4], [2, 4], [1, 4], [4, 4], [1, 4], [1, 4], [4, 4], [2, 4], [1, 4], [4, 4], [1, 4], [2, 4], [4, 4], [2, 4], [2, 4], [4, 4], [2, 4], [1, 4], [4, 4], [2, 4], [2, 4], [4, 4], [2, 4], [2, 4], [4, 4], [2, 4], [2, 4], [4, 4], [2, 4], [1, 4], [4, 4], [1, 4], [1, 4], [4, 4], [2, 4], [2, 4], [4, 4], [1, 4], [1, 4], [4, 4], [1, 4], [1, 4], [4, 4], [2, 4], [1, 4], [4, 4], [1, 4], [1, 4], [4, 4], [1, 4], [1, 4], [4, 4], [1, 4], [1, 4], [4, 4], [1, 4], [1, 4], [4, 4], [1, 4], [1, 4], [4, 4], [1, 4], [1, 4], [4, 4], [1, 4], [1, 4]]\n",
      "s65: [[4, 4], [2, 4], [2, 4], [1, 4], [4, 4], [2, 4], [2, 4], [4, 4], [2, 4], [2, 4], [4, 4], [2, 4], [2, 4], [4, 4], [2, 4], [2, 4], [4, 4], [2, 4], [2, 4], [4, 4], [2, 4], [2, 4], [4, 4], [1, 4], [1, 4], [4, 4], [2, 4], [2, 4], [4, 4], [2, 4], [1, 4], [4, 4], [2, 4], [1, 4], [4, 4], [2, 4], [1, 4], [4, 4], [1, 4], [1, 4], [4, 4], [2, 4], [1, 4], [4, 4], [2, 4], [1, 4], [4, 4], [2, 4], [1, 4], [4, 4], [1, 4], [1, 4], [4, 4], [2, 4], [1, 4], [4, 4], [1, 4], [1, 4], [4, 4], [2, 4], [1, 4], [4, 4], [1, 4], [1, 4], [4, 4], [2, 4], [1, 4], [4, 4], [2, 4], [1, 4], [4, 4], [1, 4], [1, 4], [4, 4], [1, 4], [1, 4], [4, 4], [1, 4], [1, 4], [4, 4], [1, 4], [1, 4], [4, 4], [1, 4], [1, 4], [4, 4], [1, 4], [1, 4], [4, 4], [1, 4], [1, 4], [4, 4], [1, 4], [1, 4], [4, 4], [1, 4], [1, 4], [4, 4], [1, 4], [1, 4], [4, 4], [1, 4], [1, 4], [4, 4], [1, 4], [1, 4], [4, 4], [1, 4], [1, 4], [4, 4], [1, 4], [1, 4]]\n",
      "s70: [[4, 4], [2, 4], [1, 4], [1, 4], [4, 4], [2, 4], [2, 4], [4, 4], [2, 4], [2, 4], [4, 4], [2, 4], [2, 4], [4, 4], [2, 4], [1, 4], [4, 4], [2, 4], [1, 4], [4, 4], [2, 4], [1, 4], [4, 4], [1, 4], [1, 4], [4, 4], [1, 4], [1, 4], [4, 4], [1, 4], [1, 4], [4, 4], [1, 4], [1, 4], [4, 4], [1, 4], [1, 4], [4, 4], [1, 4], [1, 4], [4, 4], [1, 4], [1, 4], [4, 4], [1, 4], [1, 4], [4, 4], [1, 4], [1, 4], [4, 4], [1, 4], [1, 4], [4, 4], [1, 4], [1, 4], [4, 4], [1, 4], [1, 4], [4, 4], [1, 4], [1, 4], [4, 4], [1, 4], [1, 4], [4, 4], [1, 4], [1, 4], [4, 4], [1, 4], [1, 4], [4, 4], [1, 4], [1, 4], [4, 4], [1, 4], [1, 4], [4, 4], [1, 4], [1, 4], [4, 4], [1, 4], [1, 4], [4, 4], [1, 4], [1, 4], [4, 4], [1, 4], [1, 4], [4, 4], [1, 4], [1, 4], [4, 4], [1, 4], [1, 4], [4, 4], [1, 4], [1, 4], [4, 4], [1, 4], [1, 4], [4, 4], [1, 4], [1, 4], [4, 4], [1, 4], [1, 4], [4, 4], [1, 4], [1, 4], [4, 4], [1, 4], [1, 4]]\n"
     ]
    }
   ],
   "source": [
    "print(f's50: {convnext_b50_ds}')\n",
    "print(f's55: {convnext_b55_ds}') \n",
    "# print(f's575: {convnext_b575_ds}') \n",
    "print(f's60: {convnext_b60_ds}') \n",
    "# print(f's625: {convnext_b625_ds}') \n",
    "print(f's65: {convnext_b65_ds}') \n",
    "# print(f's675: {convnext_b675_ds}') \n",
    "print(f's70: {convnext_b70_ds}')\n",
    "# print(f's725: {convnext_b725_ds}')"
   ]
  },
  {
   "cell_type": "markdown",
   "id": "f547ff2d",
   "metadata": {},
   "source": [
    "### Backup"
   ]
  },
  {
   "cell_type": "code",
   "execution_count": null,
   "id": "1fb27fa0",
   "metadata": {},
   "outputs": [
    {
     "ename": "FileNotFoundError",
     "evalue": "[Errno 2] No such file or directory: '/home/shadowpa0327/research/sparsity_research/DominoSearch/DominoSearch/search/script_resnet_ImageNet/deit_base_sparse/s_0.7.pkl'",
     "output_type": "error",
     "traceback": [
      "\u001b[0;31m---------------------------------------------------------------------------\u001b[0m",
      "\u001b[0;31mFileNotFoundError\u001b[0m                         Traceback (most recent call last)",
      "\u001b[0;32m/tmp/ipykernel_3387596/1775937005.py\u001b[0m in \u001b[0;36m<module>\u001b[0;34m\u001b[0m\n\u001b[0;32m----> 1\u001b[0;31m \u001b[0mdeit_b70_ds\u001b[0m \u001b[0;34m=\u001b[0m \u001b[0mget_config\u001b[0m\u001b[0;34m(\u001b[0m\u001b[0;34m\"/home/shadowpa0327/research/sparsity_research/DominoSearch/DominoSearch/search/script_resnet_ImageNet/deit_base_sparse/s_0.7.pkl\"\u001b[0m\u001b[0;34m)\u001b[0m\u001b[0;34m\u001b[0m\u001b[0;34m\u001b[0m\u001b[0m\n\u001b[0m\u001b[1;32m      2\u001b[0m \u001b[0mdeit_b675_ds\u001b[0m \u001b[0;34m=\u001b[0m \u001b[0mget_config\u001b[0m\u001b[0;34m(\u001b[0m\u001b[0;34m\"/home/shadowpa0327/research/sparsity_research/DominoSearch/DominoSearch/search/script_resnet_ImageNet/deit_base_sparse/s_0.675.pkl\"\u001b[0m\u001b[0;34m)\u001b[0m\u001b[0;34m\u001b[0m\u001b[0;34m\u001b[0m\u001b[0m\n\u001b[1;32m      3\u001b[0m \u001b[0mdeit_b65_ds\u001b[0m \u001b[0;34m=\u001b[0m \u001b[0mget_config\u001b[0m\u001b[0;34m(\u001b[0m\u001b[0;34m\"/home/shadowpa0327/research/sparsity_research/DominoSearch/DominoSearch/search/script_resnet_ImageNet/deit_base_sparse/s_0.65.pkl\"\u001b[0m\u001b[0;34m)\u001b[0m\u001b[0;34m\u001b[0m\u001b[0;34m\u001b[0m\u001b[0m\n\u001b[1;32m      4\u001b[0m \u001b[0mdeit_b625_ds\u001b[0m \u001b[0;34m=\u001b[0m \u001b[0mget_config\u001b[0m\u001b[0;34m(\u001b[0m\u001b[0;34m\"/home/shadowpa0327/research/sparsity_research/DominoSearch/DominoSearch/search/script_resnet_ImageNet/deit_base_sparse/s_0.625.pkl\"\u001b[0m\u001b[0;34m)\u001b[0m\u001b[0;34m\u001b[0m\u001b[0;34m\u001b[0m\u001b[0m\n",
      "\u001b[0;32m/tmp/ipykernel_3387596/4015028245.py\u001b[0m in \u001b[0;36mget_config\u001b[0;34m(path)\u001b[0m\n\u001b[1;32m      1\u001b[0m \u001b[0;32mdef\u001b[0m \u001b[0mget_config\u001b[0m\u001b[0;34m(\u001b[0m\u001b[0mpath\u001b[0m\u001b[0;34m)\u001b[0m\u001b[0;34m:\u001b[0m\u001b[0;34m\u001b[0m\u001b[0;34m\u001b[0m\u001b[0m\n\u001b[0;32m----> 2\u001b[0;31m     \u001b[0;32mwith\u001b[0m \u001b[0mopen\u001b[0m\u001b[0;34m(\u001b[0m\u001b[0mpath\u001b[0m\u001b[0;34m,\u001b[0m \u001b[0;34m'rb'\u001b[0m\u001b[0;34m)\u001b[0m \u001b[0;32mas\u001b[0m \u001b[0mf\u001b[0m\u001b[0;34m:\u001b[0m\u001b[0;34m\u001b[0m\u001b[0;34m\u001b[0m\u001b[0m\n\u001b[0m\u001b[1;32m      3\u001b[0m         \u001b[0mcfg\u001b[0m \u001b[0;34m=\u001b[0m \u001b[0mpickle\u001b[0m\u001b[0;34m.\u001b[0m\u001b[0mload\u001b[0m\u001b[0;34m(\u001b[0m\u001b[0mf\u001b[0m\u001b[0;34m)\u001b[0m\u001b[0;34m\u001b[0m\u001b[0;34m\u001b[0m\u001b[0m\n\u001b[1;32m      4\u001b[0m     \u001b[0;32mreturn\u001b[0m \u001b[0mlist\u001b[0m\u001b[0;34m(\u001b[0m\u001b[0mcfg\u001b[0m\u001b[0;34m.\u001b[0m\u001b[0mvalues\u001b[0m\u001b[0;34m(\u001b[0m\u001b[0;34m)\u001b[0m\u001b[0;34m)\u001b[0m\u001b[0;34m\u001b[0m\u001b[0;34m\u001b[0m\u001b[0m\n",
      "\u001b[0;31mFileNotFoundError\u001b[0m: [Errno 2] No such file or directory: '/home/shadowpa0327/research/sparsity_research/DominoSearch/DominoSearch/search/script_resnet_ImageNet/deit_base_sparse/s_0.7.pkl'"
     ]
    }
   ],
   "source": [
    "deit_b70_ds = get_config(\"/home/shadowpa0327/research/sparsity_research/DominoSearch/DominoSearch/search/script_resnet_ImageNet/deit_base_sparse/s_0.7.pkl\")\n",
    "deit_b675_ds = get_config(\"/home/shadowpa0327/research/sparsity_research/DominoSearch/DominoSearch/search/script_resnet_ImageNet/deit_base_sparse/s_0.675.pkl\")\n",
    "deit_b65_ds = get_config(\"/home/shadowpa0327/research/sparsity_research/DominoSearch/DominoSearch/search/script_resnet_ImageNet/deit_base_sparse/s_0.65.pkl\")\n",
    "deit_b625_ds = get_config(\"/home/shadowpa0327/research/sparsity_research/DominoSearch/DominoSearch/search/script_resnet_ImageNet/deit_base_sparse/s_0.625.pkl\")"
   ]
  },
  {
   "cell_type": "code",
   "execution_count": null,
   "id": "0838bf92",
   "metadata": {},
   "outputs": [],
   "source": [
    "swin_s60_ds = get_config(\"/home/shadowpa0327/research/sparsity_research/DominoSearch/DominoSearch/search/script_resnet_ImageNet/swin_small_sparse/s_0.6.pkl\")\n",
    "swin_s65_ds = get_config(\"/home/shadowpa0327/research/sparsity_research/DominoSearch/DominoSearch/search/script_resnet_ImageNet/swin_small_sparse/s_0.65.pkl\")\n",
    "swin_s70_ds = get_config(\"/home/shadowpa0327/research/sparsity_research/DominoSearch/DominoSearch/search/script_resnet_ImageNet/swin_small_sparse/s_0.7.pkl\")"
   ]
  },
  {
   "cell_type": "code",
   "execution_count": null,
   "id": "90377fc0",
   "metadata": {},
   "outputs": [],
   "source": [
    "swin_b60_ds = get_config(\"/home/shadowpa0327/research/sparsity_research/DominoSearch/DominoSearch/search/script_resnet_ImageNet/swin_base_sparse_base4/s_0.6.pkl\")\n",
    "swin_b65_ds = get_config(\"/home/shadowpa0327/research/sparsity_research/DominoSearch/DominoSearch/search/script_resnet_ImageNet/swin_base_sparse_base4/s_0.65.pkl\")\n",
    "swin_b70_ds = get_config(\"/home/shadowpa0327/research/sparsity_research/DominoSearch/DominoSearch/search/script_resnet_ImageNet/swin_base_sparse_base4/s_0.7.pkl\")"
   ]
  },
  {
   "cell_type": "code",
   "execution_count": null,
   "id": "3d585ecd",
   "metadata": {},
   "outputs": [
    {
     "name": "stdout",
     "output_type": "stream",
     "text": [
      "[[4, 4], [4, 4], [4, 4], [4, 4], [4, 4], [4, 4], [4, 4], [4, 4], [4, 4], [2, 4], [2, 4], [2, 4], [4, 4], [2, 4], [2, 4], [2, 4], [2, 4], [2, 4], [2, 4], [1, 4], [2, 4], [2, 4], [2, 4], [1, 4], [2, 4], [2, 4], [2, 4], [1, 4], [2, 4], [2, 4], [2, 4], [1, 4], [2, 4], [2, 4], [2, 4], [1, 4], [2, 4], [2, 4], [2, 4], [1, 4], [2, 4], [2, 4], [1, 4], [1, 4], [2, 4], [2, 4], [1, 4], [1, 4], [2, 4], [2, 4], [2, 4], [1, 4], [2, 4], [2, 4], [2, 4], [1, 4], [2, 4], [2, 4], [2, 4], [1, 4], [2, 4], [2, 4], [2, 4], [1, 4], [2, 4], [2, 4], [2, 4], [1, 4], [2, 4], [2, 4], [1, 4], [1, 4], [2, 4], [2, 4], [1, 4], [1, 4], [2, 4], [2, 4], [1, 4], [1, 4], [2, 4], [2, 4], [1, 4], [1, 4], [2, 4], [2, 4], [1, 4], [1, 4], [1, 4], [1, 4], [1, 4], [1, 4], [1, 4], [1, 4], [1, 4], [1, 4]]\n",
      "[[[4, 4]], [[4, 4]], [[4, 4]], [[4, 4]], [[4, 4]], [[4, 4]], [[4, 4]], [[4, 4]], [[4, 4]], [[2, 4]], [[2, 4]], [[2, 4]], [[4, 4]], [[2, 4]], [[2, 4]], [[2, 4]], [[2, 4]], [[2, 4]], [[2, 4]], [[1, 4]], [[2, 4]], [[2, 4]], [[2, 4]], [[1, 4]], [[2, 4]], [[2, 4]], [[2, 4]], [[1, 4]], [[2, 4]], [[2, 4]], [[2, 4]], [[1, 4]], [[2, 4]], [[2, 4]], [[2, 4]], [[1, 4]], [[2, 4]], [[2, 4]], [[2, 4]], [[1, 4]], [[2, 4]], [[2, 4]], [[1, 4]], [[1, 4]], [[2, 4]], [[2, 4]], [[1, 4]], [[1, 4]], [[2, 4]], [[2, 4]], [[2, 4]], [[1, 4]], [[2, 4]], [[2, 4]], [[2, 4]], [[1, 4]], [[2, 4]], [[2, 4]], [[2, 4]], [[1, 4]], [[2, 4]], [[2, 4]], [[2, 4]], [[1, 4]], [[2, 4]], [[2, 4]], [[2, 4]], [[1, 4]], [[2, 4]], [[2, 4]], [[1, 4]], [[1, 4]], [[2, 4]], [[2, 4]], [[1, 4]], [[1, 4]], [[2, 4]], [[2, 4]], [[1, 4]], [[1, 4]], [[2, 4]], [[2, 4]], [[1, 4]], [[1, 4]], [[2, 4]], [[2, 4]], [[1, 4]], [[1, 4]], [[1, 4]], [[1, 4]], [[1, 4]], [[1, 4]], [[1, 4]], [[1, 4]], [[1, 4]], [[1, 4]]]\n"
     ]
    }
   ],
   "source": [
    "print(swin_b65_ds) \n",
    "print(convert_to_search_space_format(swin_b65_ds))"
   ]
  },
  {
   "cell_type": "code",
   "execution_count": null,
   "id": "2f4754ce",
   "metadata": {},
   "outputs": [
    {
     "name": "stdout",
     "output_type": "stream",
     "text": [
      "[[4, 4], [4, 4], [4, 4], [4, 4], [4, 4], [4, 4], [4, 4], [4, 4], [4, 4], [2, 4], [2, 4], [2, 4], [4, 4], [2, 4], [2, 4], [2, 4], [2, 4], [2, 4], [2, 4], [1, 4], [2, 4], [2, 4], [2, 4], [1, 4], [2, 4], [2, 4], [2, 4], [1, 4], [2, 4], [2, 4], [2, 4], [1, 4], [2, 4], [2, 4], [2, 4], [1, 4], [2, 4], [2, 4], [2, 4], [1, 4], [2, 4], [2, 4], [2, 4], [1, 4], [2, 4], [2, 4], [2, 4], [1, 4], [2, 4], [2, 4], [2, 4], [2, 4], [2, 4], [2, 4], [2, 4], [2, 4], [2, 4], [2, 4], [2, 4], [1, 4], [2, 4], [2, 4], [2, 4], [2, 4], [2, 4], [2, 4], [2, 4], [2, 4], [2, 4], [2, 4], [2, 4], [2, 4], [2, 4], [2, 4], [2, 4], [2, 4], [2, 4], [2, 4], [2, 4], [2, 4], [2, 4], [2, 4], [2, 4], [2, 4], [2, 4], [2, 4], [2, 4], [2, 4], [1, 4], [1, 4], [1, 4], [1, 4], [1, 4], [1, 4], [1, 4], [1, 4]]\n",
      "[[[4, 4]], [[4, 4]], [[4, 4]], [[4, 4]], [[4, 4]], [[4, 4]], [[4, 4]], [[4, 4]], [[4, 4]], [[2, 4]], [[2, 4]], [[2, 4]], [[4, 4]], [[2, 4]], [[2, 4]], [[2, 4]], [[2, 4]], [[2, 4]], [[2, 4]], [[1, 4]], [[2, 4]], [[2, 4]], [[2, 4]], [[1, 4]], [[2, 4]], [[2, 4]], [[2, 4]], [[1, 4]], [[2, 4]], [[2, 4]], [[2, 4]], [[1, 4]], [[2, 4]], [[2, 4]], [[2, 4]], [[1, 4]], [[2, 4]], [[2, 4]], [[2, 4]], [[1, 4]], [[2, 4]], [[2, 4]], [[2, 4]], [[1, 4]], [[2, 4]], [[2, 4]], [[2, 4]], [[1, 4]], [[2, 4]], [[2, 4]], [[2, 4]], [[2, 4]], [[2, 4]], [[2, 4]], [[2, 4]], [[2, 4]], [[2, 4]], [[2, 4]], [[2, 4]], [[1, 4]], [[2, 4]], [[2, 4]], [[2, 4]], [[2, 4]], [[2, 4]], [[2, 4]], [[2, 4]], [[2, 4]], [[2, 4]], [[2, 4]], [[2, 4]], [[2, 4]], [[2, 4]], [[2, 4]], [[2, 4]], [[2, 4]], [[2, 4]], [[2, 4]], [[2, 4]], [[2, 4]], [[2, 4]], [[2, 4]], [[2, 4]], [[2, 4]], [[2, 4]], [[2, 4]], [[2, 4]], [[2, 4]], [[1, 4]], [[1, 4]], [[1, 4]], [[1, 4]], [[1, 4]], [[1, 4]], [[1, 4]], [[1, 4]]]\n"
     ]
    }
   ],
   "source": [
    "print(swin_s60_ds) \n",
    "print(convert_to_search_space_format(swin_s60_ds))"
   ]
  },
  {
   "cell_type": "code",
   "execution_count": null,
   "id": "78c54319",
   "metadata": {},
   "outputs": [
    {
     "name": "stdout",
     "output_type": "stream",
     "text": [
      "[[[2, 4]], [[2, 4]], [[2, 4]], [[2, 4]], [[2, 4]], [[2, 4]], [[1, 4]], [[1, 4]], [[2, 4]], [[2, 4]], [[1, 4]], [[1, 4]], [[2, 4]], [[2, 4]], [[2, 4]], [[2, 4]], [[2, 4]], [[2, 4]], [[1, 4]], [[1, 4]], [[2, 4]], [[2, 4]], [[1, 4]], [[2, 4]], [[2, 4]], [[2, 4]], [[2, 4]], [[1, 4]], [[2, 4]], [[2, 4]], [[2, 4]], [[1, 4]], [[2, 4]], [[2, 4]], [[1, 4]], [[1, 4]], [[2, 4]], [[2, 4]], [[1, 4]], [[2, 4]], [[2, 4]], [[2, 4]], [[1, 4]], [[2, 4]], [[2, 4]], [[2, 4]], [[1, 4]], [[1, 4]]]\n"
     ]
    }
   ],
   "source": [
    "print(convert_to_search_space_format([[2, 4], [2, 4], [2, 4], [2, 4], [2, 4], [2, 4], [1, 4], [1, 4], [2, 4], [2, 4], [1, 4], [1, 4], [2, 4], [2, 4], [2, 4], [2, 4], [2, 4], [2, 4], [1, 4], [1, 4], [2, 4], [2, 4], [1, 4], [2, 4], [2, 4], [2, 4], [2, 4], [1, 4], [2, 4], [2, 4], [2, 4], [1, 4], [2, 4], [2, 4], [1, 4], [1, 4], [2, 4], [2, 4], [1, 4], [2, 4], [2, 4], [2, 4], [1, 4], [2, 4], [2, 4], [2, 4], [1, 4], [1, 4]]))"
   ]
  },
  {
   "cell_type": "code",
   "execution_count": null,
   "id": "09c3dde9",
   "metadata": {},
   "outputs": [],
   "source": []
  }
 ],
 "metadata": {
  "kernelspec": {
   "display_name": "Python 3 (ipykernel)",
   "language": "python",
   "name": "python3"
  },
  "language_info": {
   "codemirror_mode": {
    "name": "ipython",
    "version": 3
   },
   "file_extension": ".py",
   "mimetype": "text/x-python",
   "name": "python",
   "nbconvert_exporter": "python",
   "pygments_lexer": "ipython3",
   "version": "3.7.13"
  }
 },
 "nbformat": 4,
 "nbformat_minor": 5
}
